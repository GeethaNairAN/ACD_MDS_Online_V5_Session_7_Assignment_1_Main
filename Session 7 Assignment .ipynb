{
 "cells": [
  {
   "cell_type": "code",
   "execution_count": 1,
   "metadata": {},
   "outputs": [
    {
     "name": "stdout",
     "output_type": "stream",
     "text": [
      "Moving Average Result for the problem Statement array : \n",
      " [  5.           4.66666667   5.66666667   6.66666667   9.66666667\n",
      "  28.66666667  49.33333333  72.66666667  84.          93.33333333\n",
      " 116.33333333] \n",
      "\n",
      "Moving Average Result for the second test array : \n",
      " [20. 30. 40. 50. 60. 70. 80. 90.] \n",
      "\n"
     ]
    }
   ],
   "source": [
    "# Function to find moving average of a sequence of values \n",
    "# Let val be the sequence of values passed and window be the size of the moving window\n",
    "# window value should be greater than 0.\n",
    "import numpy as np\n",
    "def moving_average(val,window):\n",
    "    if window == 0:\n",
    "        return('Provide a window value greater than 0')\n",
    "    else:\n",
    "\n",
    "# Find the length of the result window - length  \n",
    "        length=len(val)-window +1\n",
    "        listav=[]\n",
    "\n",
    "# Get the arrays that move  \n",
    "# ar1 will start from the required start and ar2 will end at the window. \n",
    "        ar1=np.array([val[j::] for j in range(length)])\n",
    "        ar2=[ar1.item(k)[:window] for k in range(length)]\n",
    "\n",
    "# Find the average of the moving window elements.\n",
    "        for i in range(length):\n",
    "            listav.append(np.average(ar2[i]))\n",
    "        return(np.array(listav))\n",
    "\n",
    "# Test 1 - with the array values provided in the problem statement \n",
    "val=np.array([3,5,7,2,8,10,11,65,72,81,99,100,150])\n",
    "print('Moving Average Result for the problem Statement array : \\n', moving_average(val,3),'\\n')\n",
    "\n",
    "# Test 2 - with another array\n",
    "val1=np.array([10,20,30,40,50,60,70,80,90,100])\n",
    "print('Moving Average Result for the second test array : \\n', moving_average(val1,3),'\\n')\n"
   ]
  },
  {
   "cell_type": "code",
   "execution_count": 2,
   "metadata": {},
   "outputs": [
    {
     "name": "stdout",
     "output_type": "stream",
     "text": [
      "Moving Average Result for wrong window length : \n",
      " Provide a window value greater than 0\n"
     ]
    }
   ],
   "source": [
    "# Test 3 - use 0 for window\n",
    "print('Moving Average Result for wrong window length : \\n', moving_average(val1,0))\n"
   ]
  },
  {
   "cell_type": "code",
   "execution_count": 3,
   "metadata": {},
   "outputs": [
    {
     "name": "stdout",
     "output_type": "stream",
     "text": [
      "Moving Average Result for the problem Statement array : \n",
      " [  5.           4.66666667   5.66666667   6.66666667   9.66666667\n",
      "  28.66666667  49.33333333  72.66666667  84.          93.33333333\n",
      " 116.33333333] \n",
      "\n",
      "Moving Average Result for the second test array : \n",
      " [20. 30. 40. 50. 60. 70. 80. 90.] \n",
      "\n"
     ]
    }
   ],
   "source": [
    "# Find the moving window average using Convolve function in numpy\n",
    "\n",
    "from numpy import convolve\n",
    "def movingavg_conv(val,window):\n",
    "    weights=np.repeat(1.0,window)/window\n",
    "    average=np.convolve(val,weights,'valid')\n",
    "    return average\n",
    "\n",
    "# Test 1 - with the array values provided in the problem statement \n",
    "val=np.array([3,5,7,2,8,10,11,65,72,81,99,100,150])\n",
    "print('Moving Average Result for the problem Statement array : \\n', movingavg_conv(val,3),'\\n')\n",
    "\n",
    "# Test 2 - with another array\n",
    "val1=np.array([10,20,30,40,50,60,70,80,90,100])\n",
    "print('Moving Average Result for the second test array : \\n', movingavg_conv(val1,3),'\\n')"
   ]
  },
  {
   "cell_type": "code",
   "execution_count": null,
   "metadata": {},
   "outputs": [],
   "source": []
  }
 ],
 "metadata": {
  "kernelspec": {
   "display_name": "Python 3",
   "language": "python",
   "name": "python3"
  },
  "language_info": {
   "codemirror_mode": {
    "name": "ipython",
    "version": 3
   },
   "file_extension": ".py",
   "mimetype": "text/x-python",
   "name": "python",
   "nbconvert_exporter": "python",
   "pygments_lexer": "ipython3",
   "version": "3.6.5"
  }
 },
 "nbformat": 4,
 "nbformat_minor": 2
}
